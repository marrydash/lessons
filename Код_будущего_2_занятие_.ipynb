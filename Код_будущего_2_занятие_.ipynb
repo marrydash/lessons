{
  "nbformat": 4,
  "nbformat_minor": 0,
  "metadata": {
    "colab": {
      "provenance": [],
      "authorship_tag": "ABX9TyPwVg5uvErs/IFQNH4tg39+",
      "include_colab_link": true
    },
    "kernelspec": {
      "name": "python3",
      "display_name": "Python 3"
    },
    "language_info": {
      "name": "python"
    }
  },
  "cells": [
    {
      "cell_type": "markdown",
      "metadata": {
        "id": "view-in-github",
        "colab_type": "text"
      },
      "source": [
        "<a href=\"https://colab.research.google.com/github/marrydash/lessons/blob/main/%D0%9A%D0%BE%D0%B4_%D0%B1%D1%83%D0%B4%D1%83%D1%89%D0%B5%D0%B3%D0%BE_2_%D0%B7%D0%B0%D0%BD%D1%8F%D1%82%D0%B8%D0%B5_.ipynb\" target=\"_parent\"><img src=\"https://colab.research.google.com/assets/colab-badge.svg\" alt=\"Open In Colab\"/></a>"
      ]
    },
    {
      "cell_type": "code",
      "execution_count": null,
      "metadata": {
        "colab": {
          "base_uri": "https://localhost:8080/"
        },
        "id": "jV3og0oOkLZf",
        "outputId": "a8316828-aa78-4dfd-9a77-cbb8e1fa6ebf"
      },
      "outputs": [
        {
          "output_type": "stream",
          "name": "stdout",
          "text": [
            "Введите любое целое число 4\n",
            "2 67 83 45 4\n",
            "201\n",
            "2\n",
            "83\n",
            "Введите число которое нужно удалить 2\n",
            "67 83 45 4\n"
          ]
        }
      ],
      "source": [
        "a = [2,67,83,45]\n",
        "n = ['Danya','Olya','Valentina']\n",
        "an = int(input('Введите любое целое число '))\n",
        "a.append(an)\n",
        "print(*a)\n",
        "print(sum(a))\n",
        "print(min(a))\n",
        "print(max(a))\n",
        "\n",
        "b = int(input('Введите число которое нужно удалить '))\n",
        "a.remove(b)\n",
        "print(*a)"
      ]
    },
    {
      "cell_type": "code",
      "source": [
        "print(len(a))"
      ],
      "metadata": {
        "colab": {
          "base_uri": "https://localhost:8080/"
        },
        "id": "yAAHCHx9mRcw",
        "outputId": "04a26d52-3361-43e3-b9d0-c9021223a12d"
      },
      "execution_count": null,
      "outputs": [
        {
          "output_type": "stream",
          "name": "stdout",
          "text": [
            "4\n"
          ]
        }
      ]
    },
    {
      "cell_type": "code",
      "source": [
        "a.sort()\n",
        "print(a)"
      ],
      "metadata": {
        "colab": {
          "base_uri": "https://localhost:8080/"
        },
        "id": "kaHHm_bimr9a",
        "outputId": "b577774f-0a34-4848-a6bd-70dcdd6561c6"
      },
      "execution_count": null,
      "outputs": [
        {
          "output_type": "stream",
          "name": "stdout",
          "text": [
            "[4, 45, 67, 83]\n"
          ]
        }
      ]
    },
    {
      "cell_type": "code",
      "source": [
        "a.sort(reverse=True)\n",
        "print(a)"
      ],
      "metadata": {
        "colab": {
          "base_uri": "https://localhost:8080/"
        },
        "id": "S8xQwxfAn61X",
        "outputId": "72a1af88-4594-4f6e-9ff2-8f35a03bc917"
      },
      "execution_count": null,
      "outputs": [
        {
          "output_type": "stream",
          "name": "stdout",
          "text": [
            "[83, 67, 45, 4]\n"
          ]
        }
      ]
    },
    {
      "cell_type": "code",
      "source": [
        "films=['Один дома', 'Гарри Поттер', 'Служебный роман','Ирония судьбы', 'Иван Васильевич меняет профессию']\n",
        "\n",
        "print(films[0])"
      ],
      "metadata": {
        "colab": {
          "base_uri": "https://localhost:8080/"
        },
        "id": "vXaI1YpIoWuH",
        "outputId": "1adb779a-7f63-4ea9-d8d8-937763295f66"
      },
      "execution_count": null,
      "outputs": [
        {
          "output_type": "stream",
          "name": "stdout",
          "text": [
            "Один дома\n"
          ]
        }
      ]
    },
    {
      "cell_type": "code",
      "source": [
        "app = input()"
      ],
      "metadata": {
        "colab": {
          "base_uri": "https://localhost:8080/"
        },
        "id": "GWGRUo6EpAY3",
        "outputId": "6221e69d-5732-4058-9d54-a2c450923f26"
      },
      "execution_count": null,
      "outputs": [
        {
          "name": "stdout",
          "output_type": "stream",
          "text": [
            "Унесённые призраками \n"
          ]
        }
      ]
    },
    {
      "cell_type": "code",
      "source": [
        "films.append(app)\n",
        "films.sort()\n",
        "print(*films)"
      ],
      "metadata": {
        "colab": {
          "base_uri": "https://localhost:8080/"
        },
        "id": "vs8PUbtupM9R",
        "outputId": "1c725ecf-5e75-44f3-d25d-ac1a8e9c9bf4"
      },
      "execution_count": null,
      "outputs": [
        {
          "output_type": "stream",
          "name": "stdout",
          "text": [
            "Гарри Поттер Иван Васильевич меняет профессию Ирония судьбы Один дома Служебный роман Унесённые призраками  Унесённые призраками  Унесённые призраками \n"
          ]
        }
      ]
    },
    {
      "cell_type": "code",
      "source": [
        "facts = ['Самая большая коллекция уточек = 2500 штук', 'Женщины справляются с парковкой лучше чем мужчины',\n",
        "         'В Ирландии никогда не было кротов', 'a', 'я']"
      ],
      "metadata": {
        "id": "3ZbsVe5Wp092"
      },
      "execution_count": null,
      "outputs": []
    },
    {
      "cell_type": "code",
      "source": [
        "number_f= int(input())"
      ],
      "metadata": {
        "colab": {
          "base_uri": "https://localhost:8080/"
        },
        "id": "f7fFjVbmqSjq",
        "outputId": "7880e95a-a6b3-48eb-8e09-e4a3932c0eac"
      },
      "execution_count": null,
      "outputs": [
        {
          "name": "stdout",
          "output_type": "stream",
          "text": [
            "1\n"
          ]
        }
      ]
    },
    {
      "cell_type": "code",
      "source": [
        "print(facts[number_f-1])"
      ],
      "metadata": {
        "colab": {
          "base_uri": "https://localhost:8080/"
        },
        "id": "vF87ZAcxq3tz",
        "outputId": "5129176c-b808-4434-ecb1-c62e2831f8bc"
      },
      "execution_count": null,
      "outputs": [
        {
          "output_type": "stream",
          "name": "stdout",
          "text": [
            "Самая большая коллекция уточек = 2500 штук\n"
          ]
        }
      ]
    },
    {
      "cell_type": "code",
      "source": [
        "import random\n",
        "print(random.choice(facts))"
      ],
      "metadata": {
        "colab": {
          "base_uri": "https://localhost:8080/"
        },
        "id": "z1nXRPh5rWi_",
        "outputId": "357ef854-3bc2-4ea4-851f-fc9974492a62"
      },
      "execution_count": null,
      "outputs": [
        {
          "output_type": "stream",
          "name": "stdout",
          "text": [
            "В Ирландии никогда не было кротов\n"
          ]
        }
      ]
    },
    {
      "cell_type": "code",
      "source": [
        "print(sorted(facts, reverse = True))"
      ],
      "metadata": {
        "colab": {
          "base_uri": "https://localhost:8080/"
        },
        "id": "uN7kdbIUsrKf",
        "outputId": "20d58822-a3b4-403e-e520-638cab9dc35f"
      },
      "execution_count": null,
      "outputs": [
        {
          "output_type": "stream",
          "name": "stdout",
          "text": [
            "['я', 'Самая большая коллекция уточек = 2500 штук', 'Женщины справляются с парковкой лучше чем мужчины', 'В Ирландии никогда не было кротов', 'a']\n"
          ]
        }
      ]
    },
    {
      "cell_type": "code",
      "source": [
        "a = [1,2,3,4,5]\n",
        "sum(a)"
      ],
      "metadata": {
        "colab": {
          "base_uri": "https://localhost:8080/"
        },
        "id": "SgK724CWuNBA",
        "outputId": "d71e3935-5ed3-4139-f340-aa8c4a458637"
      },
      "execution_count": null,
      "outputs": [
        {
          "output_type": "execute_result",
          "data": {
            "text/plain": [
              "15"
            ]
          },
          "metadata": {},
          "execution_count": 44
        }
      ]
    },
    {
      "cell_type": "code",
      "source": [
        "summ = a[0]+a[1]+a[2]+a[3]+a[4]\n",
        "summ"
      ],
      "metadata": {
        "colab": {
          "base_uri": "https://localhost:8080/"
        },
        "id": "wLdatAY8uV1D",
        "outputId": "9688b905-5d1f-473c-dae6-4cc8b772630e"
      },
      "execution_count": null,
      "outputs": [
        {
          "output_type": "execute_result",
          "data": {
            "text/plain": [
              "15"
            ]
          },
          "metadata": {},
          "execution_count": 45
        }
      ]
    },
    {
      "cell_type": "code",
      "source": [
        "products = ['яблоки', 'молоко', 'хлеб', 'манго', 'лосось']\n"
      ],
      "metadata": {
        "id": "rQfMnGMqvHe6"
      },
      "execution_count": null,
      "outputs": []
    },
    {
      "cell_type": "code",
      "source": [
        "#@title\n",
        "products.append('сливки')"
      ],
      "metadata": {
        "colab": {
          "base_uri": "https://localhost:8080/"
        },
        "id": "oR50AowtvUNk",
        "outputId": "feb15647-bb76-4c55-cb95-876b1c44f36e",
        "cellView": "form"
      },
      "execution_count": null,
      "outputs": [
        {
          "output_type": "execute_result",
          "data": {
            "text/plain": [
              "['яблоки', 'молоко', 'хлеб', 'манго', 'лосось', 'сливки']"
            ]
          },
          "metadata": {},
          "execution_count": 47
        }
      ]
    },
    {
      "cell_type": "code",
      "source": [
        "new = input()"
      ],
      "metadata": {
        "colab": {
          "base_uri": "https://localhost:8080/"
        },
        "id": "w4RIc1HYvqgm",
        "outputId": "0d6f051e-99e1-4340-a550-a365e425eaf1"
      },
      "execution_count": null,
      "outputs": [
        {
          "name": "stdout",
          "output_type": "stream",
          "text": [
            "йогурт\n"
          ]
        }
      ]
    },
    {
      "cell_type": "code",
      "source": [
        "products [1] = new\n",
        "products"
      ],
      "metadata": {
        "colab": {
          "base_uri": "https://localhost:8080/"
        },
        "id": "xO8xXZUCvUbZ",
        "outputId": "1a0e63ac-ef7b-4924-f367-d087efc56aea"
      },
      "execution_count": null,
      "outputs": [
        {
          "output_type": "execute_result",
          "data": {
            "text/plain": [
              "['яблоки', 'йогурт', 'хлеб', 'манго', 'лосось', 'сливки']"
            ]
          },
          "metadata": {},
          "execution_count": 49
        }
      ]
    },
    {
      "cell_type": "code",
      "source": [
        "len(products)"
      ],
      "metadata": {
        "colab": {
          "base_uri": "https://localhost:8080/"
        },
        "id": "39zgp_grv0H9",
        "outputId": "a24e719d-e29a-4332-ba17-e2e35c4d8691"
      },
      "execution_count": null,
      "outputs": [
        {
          "output_type": "execute_result",
          "data": {
            "text/plain": [
              "6"
            ]
          },
          "metadata": {},
          "execution_count": 50
        }
      ]
    },
    {
      "cell_type": "code",
      "source": [
        "products.sort()\n",
        "products"
      ],
      "metadata": {
        "colab": {
          "base_uri": "https://localhost:8080/"
        },
        "id": "-b3KklN2v5LZ",
        "outputId": "7e0f1799-7759-4561-d41a-fdf684b9d720"
      },
      "execution_count": null,
      "outputs": [
        {
          "output_type": "execute_result",
          "data": {
            "text/plain": [
              "['йогурт', 'лосось', 'манго', 'сливки', 'хлеб', 'яблоки']"
            ]
          },
          "metadata": {},
          "execution_count": 53
        }
      ]
    },
    {
      "cell_type": "code",
      "source": [
        "products.pop()\n",
        "products"
      ],
      "metadata": {
        "colab": {
          "base_uri": "https://localhost:8080/"
        },
        "id": "CBd4ELq4v9U4",
        "outputId": "4a02523b-3566-409b-99e5-66b337c7766a"
      },
      "execution_count": null,
      "outputs": [
        {
          "output_type": "execute_result",
          "data": {
            "text/plain": [
              "['йогурт', 'лосось', 'манго', 'сливки', 'хлеб']"
            ]
          },
          "metadata": {},
          "execution_count": 54
        }
      ]
    }
  ]
}